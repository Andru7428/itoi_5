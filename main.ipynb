{
 "cells": [
  {
   "cell_type": "code",
   "execution_count": 1,
   "metadata": {
    "collapsed": true
   },
   "outputs": [],
   "source": [
    "from openpyxl import load_workbook"
   ]
  },
  {
   "cell_type": "code",
   "execution_count": 2,
   "outputs": [],
   "source": [
    "def hammingDistance(string1, string2):\n",
    "    # Start with a distance of zero, and count up\n",
    "    string1 = string1.zfill(8)\n",
    "    string2 = string2.zfill(8)\n",
    "    distance = 0\n",
    "    # Loop over the indices of the string\n",
    "    L = len(string1)\n",
    "    for i in range(L):\n",
    "        # Add 1 to the distan   ce if these two characters are not equal\n",
    "        if string1[i] != string2[i]:\n",
    "            distance += 1\n",
    "    # Return the final count of differences\n",
    "    return distance"
   ],
   "metadata": {
    "collapsed": false,
    "pycharm": {
     "name": "#%%\n"
    }
   }
  },
  {
   "cell_type": "code",
   "execution_count": 3,
   "outputs": [],
   "source": [
    "wb = load_workbook(filename='1.xlsx', data_only=True)\n",
    "sheet = wb['1']"
   ],
   "metadata": {
    "collapsed": false,
    "pycharm": {
     "name": "#%%\n"
    }
   }
  },
  {
   "cell_type": "code",
   "execution_count": 4,
   "outputs": [],
   "source": [
    "x_red_1 = str(sheet['W6'].value)\n",
    "x_red_2 = str(sheet['W7'].value)\n",
    "x_red_3 = str(sheet['W8'].value)\n",
    "x_blue_1 = str(sheet['X6'].value)\n",
    "x_blue_2 = str(sheet['X7'].value)\n",
    "x_blue_3 = str(sheet['X8'].value)\n",
    "x_green_1 = str(sheet['Y6'].value)\n",
    "x_green_2 = str(sheet['Y7'].value)\n",
    "x_green_3 = str(sheet['Y8'].value)"
   ],
   "metadata": {
    "collapsed": false,
    "pycharm": {
     "name": "#%%\n"
    }
   }
  },
  {
   "cell_type": "code",
   "execution_count": 5,
   "outputs": [
    {
     "name": "stdout",
     "output_type": "stream",
     "text": [
      "cell2\n",
      "cell3\n",
      "cell4\n",
      "cell5\n",
      "cell6\n",
      "cell7\n",
      "cell8\n",
      "cell9\n",
      "cell10\n",
      "cell11\n",
      "cell12\n",
      "cell13\n",
      "cell14\n",
      "cell15\n",
      "cell16\n",
      "cell17\n",
      "cell18\n",
      "cell19\n",
      "cell20\n",
      "cell21\n",
      "cell22\n",
      "cell23\n",
      "cell24\n",
      "cell25\n",
      "cell26\n",
      "cell27\n",
      "cell28\n",
      "cell29\n",
      "cell30\n",
      "cell31\n"
     ]
    }
   ],
   "source": [
    "for j in range(2, 32):\n",
    "    print('cell' + str(j))\n",
    "    y_red = str(sheet['F' + str(j)].value)\n",
    "    y_green = str(sheet['G' + str(j)].value)\n",
    "    y_blue = str(sheet['H' + str(j)].value)\n",
    "    sheet['I' + str(j)] = hammingDistance(x_red_1, y_red)\n",
    "    sheet['J' + str(j)] = hammingDistance(x_green_1, y_green)\n",
    "    sheet['K' + str(j)] = hammingDistance(x_blue_1, y_blue)\n",
    "    sheet['L' + str(j)] = hammingDistance(x_red_2, y_red)\n",
    "    sheet['M' + str(j)] = hammingDistance(x_green_2, y_green)\n",
    "    sheet['N' + str(j)] = hammingDistance(x_blue_2, y_blue)\n",
    "    sheet['O' + str(j)] = hammingDistance(x_red_3, y_red)\n",
    "    sheet['P' + str(j)] = hammingDistance(x_green_3, y_green)\n",
    "    sheet['Q' + str(j)] = hammingDistance(x_blue_3, y_blue)"
   ],
   "metadata": {
    "collapsed": false,
    "pycharm": {
     "name": "#%%\n"
    }
   }
  },
  {
   "cell_type": "code",
   "execution_count": 6,
   "outputs": [
    {
     "ename": "PermissionError",
     "evalue": "[Errno 13] Permission denied: '1.xlsx'",
     "output_type": "error",
     "traceback": [
      "\u001B[1;31m---------------------------------------------------------------------------\u001B[0m",
      "\u001B[1;31mPermissionError\u001B[0m                           Traceback (most recent call last)",
      "\u001B[1;32m<ipython-input-6-6a0802e26776>\u001B[0m in \u001B[0;36m<module>\u001B[1;34m\u001B[0m\n\u001B[1;32m----> 1\u001B[1;33m \u001B[0mwb\u001B[0m\u001B[1;33m.\u001B[0m\u001B[0msave\u001B[0m\u001B[1;33m(\u001B[0m\u001B[0mfilename\u001B[0m\u001B[1;33m=\u001B[0m\u001B[1;34m'1.xlsx'\u001B[0m\u001B[1;33m)\u001B[0m\u001B[1;33m\u001B[0m\u001B[1;33m\u001B[0m\u001B[0m\n\u001B[0m\u001B[0;32m      2\u001B[0m \u001B[1;33m\u001B[0m\u001B[0m\n\u001B[0;32m      3\u001B[0m \u001B[1;33m\u001B[0m\u001B[0m\n",
      "\u001B[1;32md:\\projects\\projects_work\\itoi_5\\venv\\lib\\site-packages\\openpyxl\\workbook\\workbook.py\u001B[0m in \u001B[0;36msave\u001B[1;34m(self, filename)\u001B[0m\n\u001B[0;32m    390\u001B[0m         \u001B[1;32mif\u001B[0m \u001B[0mself\u001B[0m\u001B[1;33m.\u001B[0m\u001B[0mwrite_only\u001B[0m \u001B[1;32mand\u001B[0m \u001B[1;32mnot\u001B[0m \u001B[0mself\u001B[0m\u001B[1;33m.\u001B[0m\u001B[0mworksheets\u001B[0m\u001B[1;33m:\u001B[0m\u001B[1;33m\u001B[0m\u001B[1;33m\u001B[0m\u001B[0m\n\u001B[0;32m    391\u001B[0m             \u001B[0mself\u001B[0m\u001B[1;33m.\u001B[0m\u001B[0mcreate_sheet\u001B[0m\u001B[1;33m(\u001B[0m\u001B[1;33m)\u001B[0m\u001B[1;33m\u001B[0m\u001B[1;33m\u001B[0m\u001B[0m\n\u001B[1;32m--> 392\u001B[1;33m         \u001B[0msave_workbook\u001B[0m\u001B[1;33m(\u001B[0m\u001B[0mself\u001B[0m\u001B[1;33m,\u001B[0m \u001B[0mfilename\u001B[0m\u001B[1;33m)\u001B[0m\u001B[1;33m\u001B[0m\u001B[1;33m\u001B[0m\u001B[0m\n\u001B[0m\u001B[0;32m    393\u001B[0m \u001B[1;33m\u001B[0m\u001B[0m\n\u001B[0;32m    394\u001B[0m \u001B[1;33m\u001B[0m\u001B[0m\n",
      "\u001B[1;32md:\\projects\\projects_work\\itoi_5\\venv\\lib\\site-packages\\openpyxl\\writer\\excel.py\u001B[0m in \u001B[0;36msave_workbook\u001B[1;34m(workbook, filename)\u001B[0m\n\u001B[0;32m    289\u001B[0m \u001B[1;33m\u001B[0m\u001B[0m\n\u001B[0;32m    290\u001B[0m     \"\"\"\n\u001B[1;32m--> 291\u001B[1;33m     \u001B[0marchive\u001B[0m \u001B[1;33m=\u001B[0m \u001B[0mZipFile\u001B[0m\u001B[1;33m(\u001B[0m\u001B[0mfilename\u001B[0m\u001B[1;33m,\u001B[0m \u001B[1;34m'w'\u001B[0m\u001B[1;33m,\u001B[0m \u001B[0mZIP_DEFLATED\u001B[0m\u001B[1;33m,\u001B[0m \u001B[0mallowZip64\u001B[0m\u001B[1;33m=\u001B[0m\u001B[1;32mTrue\u001B[0m\u001B[1;33m)\u001B[0m\u001B[1;33m\u001B[0m\u001B[1;33m\u001B[0m\u001B[0m\n\u001B[0m\u001B[0;32m    292\u001B[0m     \u001B[0mwriter\u001B[0m \u001B[1;33m=\u001B[0m \u001B[0mExcelWriter\u001B[0m\u001B[1;33m(\u001B[0m\u001B[0mworkbook\u001B[0m\u001B[1;33m,\u001B[0m \u001B[0marchive\u001B[0m\u001B[1;33m)\u001B[0m\u001B[1;33m\u001B[0m\u001B[1;33m\u001B[0m\u001B[0m\n\u001B[0;32m    293\u001B[0m     \u001B[0mwriter\u001B[0m\u001B[1;33m.\u001B[0m\u001B[0msave\u001B[0m\u001B[1;33m(\u001B[0m\u001B[1;33m)\u001B[0m\u001B[1;33m\u001B[0m\u001B[1;33m\u001B[0m\u001B[0m\n",
      "\u001B[1;32m~\\AppData\\Local\\Programs\\Python\\Python38-32\\lib\\zipfile.py\u001B[0m in \u001B[0;36m__init__\u001B[1;34m(self, file, mode, compression, allowZip64, compresslevel, strict_timestamps)\u001B[0m\n\u001B[0;32m   1214\u001B[0m             \u001B[1;32mwhile\u001B[0m \u001B[1;32mTrue\u001B[0m\u001B[1;33m:\u001B[0m\u001B[1;33m\u001B[0m\u001B[1;33m\u001B[0m\u001B[0m\n\u001B[0;32m   1215\u001B[0m                 \u001B[1;32mtry\u001B[0m\u001B[1;33m:\u001B[0m\u001B[1;33m\u001B[0m\u001B[1;33m\u001B[0m\u001B[0m\n\u001B[1;32m-> 1216\u001B[1;33m                     \u001B[0mself\u001B[0m\u001B[1;33m.\u001B[0m\u001B[0mfp\u001B[0m \u001B[1;33m=\u001B[0m \u001B[0mio\u001B[0m\u001B[1;33m.\u001B[0m\u001B[0mopen\u001B[0m\u001B[1;33m(\u001B[0m\u001B[0mfile\u001B[0m\u001B[1;33m,\u001B[0m \u001B[0mfilemode\u001B[0m\u001B[1;33m)\u001B[0m\u001B[1;33m\u001B[0m\u001B[1;33m\u001B[0m\u001B[0m\n\u001B[0m\u001B[0;32m   1217\u001B[0m                 \u001B[1;32mexcept\u001B[0m \u001B[0mOSError\u001B[0m\u001B[1;33m:\u001B[0m\u001B[1;33m\u001B[0m\u001B[1;33m\u001B[0m\u001B[0m\n\u001B[0;32m   1218\u001B[0m                     \u001B[1;32mif\u001B[0m \u001B[0mfilemode\u001B[0m \u001B[1;32min\u001B[0m \u001B[0mmodeDict\u001B[0m\u001B[1;33m:\u001B[0m\u001B[1;33m\u001B[0m\u001B[1;33m\u001B[0m\u001B[0m\n",
      "\u001B[1;31mPermissionError\u001B[0m: [Errno 13] Permission denied: '1.xlsx'"
     ]
    }
   ],
   "source": [
    "wb.save(filename='1.xlsx')\n",
    "\n"
   ],
   "metadata": {
    "collapsed": false,
    "pycharm": {
     "name": "#%%\n"
    }
   }
  }
 ],
 "metadata": {
  "kernelspec": {
   "display_name": "Python 3",
   "language": "python",
   "name": "python3"
  },
  "language_info": {
   "codemirror_mode": {
    "name": "ipython",
    "version": 2
   },
   "file_extension": ".py",
   "mimetype": "text/x-python",
   "name": "python",
   "nbconvert_exporter": "python",
   "pygments_lexer": "ipython2",
   "version": "2.7.6"
  }
 },
 "nbformat": 4,
 "nbformat_minor": 0
}