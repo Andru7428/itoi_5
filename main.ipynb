{
 "cells": [
  {
   "cell_type": "code",
   "execution_count": null,
   "metadata": {
    "collapsed": true,
    "pycharm": {
     "is_executing": true
    }
   },
   "outputs": [],
   "source": [
    "from openpyxl import load_workbook"
   ]
  },
  {
   "cell_type": "code",
   "execution_count": null,
   "outputs": [],
   "source": [
    "def hammingDistance(string1, string2):\n",
    "    # Start with a distance of zero, and count up\n",
    "    string1 = string1.zfill(8)\n",
    "    string2 = string2.zfill(8)\n",
    "    distance = 0\n",
    "    # Loop over the indices of the string\n",
    "    L = len(string1)\n",
    "    for i in range(L):\n",
    "        # Add 1 to the distan   ce if these two characters are not equal\n",
    "        if string1[i] != string2[i]:\n",
    "            distance += 1\n",
    "    # Return the final count of differences\n",
    "    return distance"
   ],
   "metadata": {
    "collapsed": false,
    "pycharm": {
     "name": "#%%\n",
     "is_executing": true
    }
   }
  },
  {
   "cell_type": "code",
   "execution_count": null,
   "outputs": [],
   "source": [
    "wb = load_workbook(filename='1.xlsx', data_only=True)\n",
    "sheet = wb['1']"
   ],
   "metadata": {
    "collapsed": false,
    "pycharm": {
     "name": "#%%\n",
     "is_executing": true
    }
   }
  },
  {
   "cell_type": "code",
   "execution_count": null,
   "outputs": [],
   "source": [
    "x_red_1 = str(sheet['W6'].value)\n",
    "x_red_2 = str(sheet['W7'].value)\n",
    "x_red_3 = str(sheet['W8'].value)\n",
    "x_blue_1 = str(sheet['X6'].value)\n",
    "x_blue_2 = str(sheet['X7'].value)\n",
    "x_blue_3 = str(sheet['X8'].value)\n",
    "x_green_1 = str(sheet['Y6'].value)\n",
    "x_green_2 = str(sheet['Y7'].value)\n",
    "x_green_3 = str(sheet['Y8'].value)"
   ],
   "metadata": {
    "collapsed": false,
    "pycharm": {
     "name": "#%%\n",
     "is_executing": true
    }
   }
  },
  {
   "cell_type": "code",
   "execution_count": null,
   "outputs": [],
   "source": [
    "for j in range(2, 32):\n",
    "    print('cell' + str(j))\n",
    "    y_red = str(sheet['F' + str(j)].value)\n",
    "    y_green = str(sheet['G' + str(j)].value)\n",
    "    y_blue = str(sheet['H' + str(j)].value)\n",
    "    sheet['I' + str(j)] = hammingDistance(x_red_1, y_red)\n",
    "    sheet['J' + str(j)] = hammingDistance(x_green_1, y_green)\n",
    "    sheet['K' + str(j)] = hammingDistance(x_blue_1, y_blue)\n",
    "    sheet['L' + str(j)] = hammingDistance(x_red_2, y_red)\n",
    "    sheet['M' + str(j)] = hammingDistance(x_green_2, y_green)\n",
    "    sheet['N' + str(j)] = hammingDistance(x_blue_2, y_blue)\n",
    "    sheet['O' + str(j)] = hammingDistance(x_red_3, y_red)\n",
    "    sheet['P' + str(j)] = hammingDistance(x_green_3, y_green)\n",
    "    sheet['Q' + str(j)] = hammingDistance(x_blue_3, y_blue)"
   ],
   "metadata": {
    "collapsed": false,
    "pycharm": {
     "name": "#%%\n",
     "is_executing": true
    }
   }
  },
  {
   "cell_type": "code",
   "execution_count": null,
   "outputs": [],
   "source": [
    "wb.save(filename='1.xlsx')\n",
    "\n"
   ],
   "metadata": {
    "collapsed": false,
    "pycharm": {
     "name": "#%%\n",
     "is_executing": true
    }
   }
  }
 ],
 "metadata": {
  "kernelspec": {
   "display_name": "Python 3",
   "language": "python",
   "name": "python3"
  },
  "language_info": {
   "codemirror_mode": {
    "name": "ipython",
    "version": 2
   },
   "file_extension": ".py",
   "mimetype": "text/x-python",
   "name": "python",
   "nbconvert_exporter": "python",
   "pygments_lexer": "ipython2",
   "version": "2.7.6"
  }
 },
 "nbformat": 4,
 "nbformat_minor": 0
}